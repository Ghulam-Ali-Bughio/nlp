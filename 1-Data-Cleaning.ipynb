{
 "cells": [
  {
   "cell_type": "markdown",
   "metadata": {},
   "source": [
    "# Data Cleaning"
   ]
  },
  {
   "cell_type": "markdown",
   "metadata": {},
   "source": [
    "## Introduction"
   ]
  },
  {
   "cell_type": "markdown",
   "metadata": {},
   "source": [
    "This notebook goes through a necessary step of any data science project - data cleaning. Data cleaning is a time consuming and unenjoyable task, yet it's a very important one. Keep in mind, \"garbage in, garbage out\". Feeding dirty data into a model will give us results that are meaningless.\n",
    "\n",
    "Specifically, we'll be walking through:\n",
    "\n",
    "1. **Getting the data - **in this case, we'll be scraping data from a website\n",
    "2. **Cleaning the data - **we will walk through popular text pre-processing techniques\n",
    "3. **Organizing the data - **we will organize the cleaned data into a way that is easy to input into other algorithms\n",
    "\n",
    "The output of this notebook will be clean, organized data in two standard text formats:\n",
    "\n",
    "1. **Corpus** - a collection of text\n",
    "2. **Document-Term Matrix** - word counts in matrix format"
   ]
  },
  {
   "cell_type": "markdown",
   "metadata": {},
   "source": [
    "## Problem Statement"
   ]
  },
  {
   "cell_type": "markdown",
   "metadata": {},
   "source": [
    "As a reminder, our goal is to look at transcripts of various comedians and note their similarities and differences. Specifically, I'd like to know if Ali Wong's comedy style is different than other comedians, since she's the comedian that got me interested in stand up comedy."
   ]
  },
  {
   "cell_type": "markdown",
   "metadata": {},
   "source": [
    "## Getting The Data"
   ]
  },
  {
   "cell_type": "markdown",
   "metadata": {},
   "source": [
    "Luckily, there are wonderful people online that keep track of stand up routine transcripts. [Scraps From The Loft](http://scrapsfromtheloft.com) makes them available for non-profit and educational purposes.\n",
    "\n",
    "To decide which comedians to look into, I went on IMDB and looked specifically at comedy specials that were released in the past 5 years. To narrow it down further, I looked only at those with greater than a 7.5/10 rating and more than 2000 votes. If a comedian had multiple specials that fit those requirements, I would pick the most highly rated one. I ended up with a dozen comedy specials."
   ]
  },
  {
   "cell_type": "code",
   "execution_count": 40,
   "metadata": {},
   "outputs": [],
   "source": [
    "# Web scraping, pickle imports\n",
    "import requests\n",
    "from bs4 import BeautifulSoup\n",
    "import pickle\n",
    "\n",
    "# Scrapes transcript data from scrapsfromtheloft.com\n",
    "def url_to_transcript(url):\n",
    "    for page in range(1, 18):\n",
    "        page = requests.get(url, params={'pgno': page}).text\n",
    "        soup = BeautifulSoup(page, \"lxml\")\n",
    "        links = soup.select(\"h2.f18 a\")\n",
    "        for a in links:\n",
    "            print(a[\"href\"])\n",
    "    \n",
    "# URLs of transcripts in scope\n",
    "url = ['https://www.thestar.com.my/search?q=Development%20Financial%20Institutions']\n"
   ]
  },
  {
   "cell_type": "code",
   "execution_count": 41,
   "metadata": {},
   "outputs": [
    {
     "name": "stdout",
     "output_type": "stream",
     "text": [
      "https://www.thestar.com.my/news/world/2020/05/29/as-lockdowns-ease-a-bronx-nail-salon-plans-a-careful-reopening\n",
      "https://www.thestar.com.my/business/business-news/2020/04/24/us-fed-says-working-to-broaden-access-to-039ppp039-facility-beyond-banks\n",
      "https://www.thestar.com.my/business/business-news/2020/04/18/bank-negara-to-ensure-sufficient-ringgit-liquidity\n",
      "https://www.thestar.com.my/business/business-news/2020/04/18/providing-sme-support-in-times-of-need\n",
      "https://www.thestar.com.my/business/business-news/2020/04/17/bank-negara-ensures-sufficient-ringgit-liquidity-in-onshore-market\n",
      "https://www.thestar.com.my/news/nation/2020/03/30/why-are-not-all-glcs-roped-in-to-contribute\n",
      "https://www.thestar.com.my/business/business-news/2020/03/26/moratorium-is-automatic-says-bank-negara\n",
      "https://www.thestar.com.my/business/business-news/2020/03/25/bnm-no-need-to-apply-interest-will-be-accrued\n",
      "https://www.thestar.com.my/news/nation/2020/03/21/bank-negara-releases-faq\n",
      "https://www.thestar.com.my/business/business-news/2020/03/18/essential-financial-services-remain-accessible\n",
      "https://www.thestar.com.my/business/business-news/2020/03/02/reaching-out-to-the-smes\n",
      "https://www.thestar.com.my/business/business-news/2020/02/15/pressure-mounts-on-government-as-economic-worries-intensifyfears-intensify\n",
      "https://www.thestar.com.my/business/business-news/2019/12/24/dfi-merger-talks-begin\n",
      "https://www.thestar.com.my/business/business-news/2019/12/23/bank-pembangunan-danajamin-receive-bnm-approval-for-merger-talks\n",
      "https://www.thestar.com.my/business/business-news/2019/12/09/bank-rakyat-9m-pbtz-up-4-to-rm129b\n",
      "https://www.thestar.com.my/business/business-news/2019/10/19/budget-2020--a-visionary-change-towards-spv2030\n",
      "https://www.thestar.com.my/business/business-news/2019/10/12/plan-to-merge-4-dfis-can-improve-efficiencies\n",
      "https://www.thestar.com.my/business/business-news/2019/10/12/industry-players-and-ceos-give-their-views\n",
      "https://www.thestar.com.my/news/nation/2019/10/11/full-text-of-budget-2020-speech\n",
      "https://www.thestar.com.my/business/business-news/2019/10/11/four-dfis-to-merge-into-a-single-entity\n",
      "https://www.thestar.com.my/business/smebiz/2019/07/22/insightful-workshop-for-entrepreneurs\n",
      "https://www.thestar.com.my/business/business-news/2019/07/15/sme-bank-targets-higher-financing\n",
      "https://www.thestar.com.my/business/business-news/2019/05/06/increase-in-financing-for-cooperatives-depends-on-bank-rakyats-capability\n",
      "https://www.thestar.com.my/business/business-news/2019/04/22/ambank-bags-a-double-at-cgc-sme-awards\n",
      "https://www.thestar.com.my/business/business-news/2019/04/01/time-to-boost-islamic-deposits\n",
      "https://www.thestar.com.my/business/smebiz/2019/04/01/understanding-sme-financing-in-malaysia\n",
      "https://www.thestar.com.my/business/business-news/2019/03/28/enhancing-the-role-of-development-financial-institutions\n",
      "https://www.thestar.com.my/metro/metro-news/2019/03/09/tailormade-for-women\n",
      "https://www.thestar.com.my/business/business-news/2018/12/29/bank-negara-issues-policy-paper-on-outsourcing\n",
      "https://www.thestar.com.my/business/business-news/2018/12/28/rhb-bank-bsn-bank-of-china-offer-lowest-lending-rates\n",
      "https://www.thestar.com.my/opinion/columnists/on-the-beat/2018/12/02/standing-tall-together-race-and-religion-have-continually-attempted-to-divide-us-but-at-the-heart-of\n",
      "https://www.thestar.com.my/business/business-news/2018/09/28/strong-growth-in-car-loan-applications-approvals-during-tax-holiday\n",
      "https://www.thestar.com.my/business/business-news/2018/08/10/bank-negara-dfis-need-to-diversify-sources-of-funding\n",
      "https://www.thestar.com.my/business/business-news/2018/08/09/dfis-need-to-ensure-long-term-financial-sustainability\n",
      "https://www.thestar.com.my/business/business-news/2018/07/05/cgc-awards-financial-institutions-and-customers-for-participating-in-schemes\n",
      "https://www.thestar.com.my/news/nation/2018/06/08/its-time-to-tame-the-glc-monster-now-is-the-moment-for-muchneeded-reforms-which-must-include-shrinki\n",
      "https://www.thestar.com.my/business/business-news/2018/02/27/bank-negara-says-rm3pt3b-funds-still-available-for-smes\n",
      "https://www.thestar.com.my/business/business-news/2018/02/22/mohd-zamree-wins-2018-outstanding-ceo-award\n",
      "https://www.thestar.com.my/business/business-news/2017/11/07/bank-negara-rm500m-disaster-relief-fund-for-flood-hit-smes\n",
      "https://www.thestar.com.my/news/nation/2017/11/03/govt-debt-is-moderate-says-finance-ministry\n",
      "https://www.thestar.com.my/business/smebiz/2017/10/30/smes-urged-to-leverage-on-bank-negara-sme-fund\n",
      "https://www.thestar.com.my/business/business-news/2017/09/20/guidelines-on-cryptocurrencies\n",
      "https://www.thestar.com.my/business/business-news/2017/09/19/development-financial-institutions-can-be-an-agent-of-change-says-bnm-governor\n",
      "https://www.thestar.com.my/business/business-news/2017/09/19/bnm-to-issue-rules-on-cryptocurrencies-by-year-end\n",
      "https://www.thestar.com.my/business/business-news/2017/04/01/net-financing-to-private-sector-grew-54-in-february\n",
      "https://www.thestar.com.my/business/business-news/2017/03/23/bank-negara-malaysia-financial-stability-report-2016\n",
      "https://www.thestar.com.my/business/business-news/2017/02/16/malaysia-economy-records-4pt5pct-growth-in-q4-of-2016\n",
      "https://www.thestar.com.my/business/business-news/2017/02/01/broad-money-grows-a-steady-3-in-december\n",
      "https://www.thestar.com.my/business/business-news/2017/01/31/banking-system-outstanding-business-loans-up-5pct--in-december\n",
      "https://www.thestar.com.my/business/business-news/2017/01/21/bank-negara-issues-draft-on-credit-risk-management\n",
      "https://www.thestar.com.my/business/business-news/2016/12/30/broad-money-growth-falls-in-november\n",
      "https://www.thestar.com.my/metro/views/2016/10/07/fuming-over-unjust-fees-consumers-become-easy-targets-for-unnecessary-charges\n",
      "https://www.thestar.com.my/business/business-news/2016/09/29/ombudsman-for-financial-services-starts-oct-1\n",
      "https://www.thestar.com.my/business/business-news/2016/09/28/ombudsman-for-financial-services-starts-oct-1\n",
      "https://www.thestar.com.my/news/nation/2016/08/31/cooperative-bank-for-personal-financing\n",
      "https://www.thestar.com.my/business/business-news/2016/08/30/m3-grows-2pt3-pc-in-july-says-bnm\n",
      "https://www.thestar.com.my/business/business-news/2016/08/27/auditors-find-it-tough-to-unmask-corporate-fraud\n",
      "https://www.thestar.com.my/business/business-news/2016/07/29/broad-money-growth-at-1pt9pc-in-june-says-bnm\n",
      "https://www.thestar.com.my/business/business-news/2016/06/02/cgc-targets-rm145bil-sme-loan-base-by-2020\n",
      "https://www.thestar.com.my/metro/smebiz/news/2016/02/22/alternative-financing-beckons\n",
      "https://www.thestar.com.my/metro/smebiz/news/2016/02/01/briefs\n",
      "https://www.thestar.com.my/business/business-news/2016/02/01/weathering-the-storm-with-bold-measures\n",
      "https://www.thestar.com.my/business/business-news/2016/01/30/dealing-with-hard-times\n",
      "https://www.thestar.com.my/news/nation/2016/01/29/welcome-news-for-smes-and-startups-rm6bil-to-be-injected-to-help-industry\n",
      "https://www.thestar.com.my/news/nation/2016/01/28/budget-2016-revision-11-key-points\n",
      "https://www.thestar.com.my/news/nation/2016/01/28/budget-2016-revision-full-text-of-speech\n",
      "https://www.thestar.com.my/news/nation/2016/01/28/najib-presents-revised-2016-budget\n",
      "https://www.thestar.com.my/business/business-news/2015/12/03/cgc-to-develop-credit-guarantee-framework-for-smes-in-rwanda\n",
      "https://www.thestar.com.my/business/business-news/2015/10/30/bank-negara-enhances-consumer-protection-in-disputes-involving-banks-and-insurers\n",
      "https://www.thestar.com.my/business/business-news/2015/10/29/bank-negara-enhances-consumer-protection-in-disputes-involving-banks-and-insurance-firms\n",
      "https://www.thestar.com.my/business/business-news/2015/10/01/access-for-smes-to-bnm-special-funds-channel\n",
      "https://www.thestar.com.my/news/nation/2015/06/17/parliament-1mdb-pulau-indah\n",
      "https://www.thestar.com.my/metro/smebiz/focus/2015/06/08/breaking-down-barriers-to-financing\n",
      "https://www.thestar.com.my/business/business-news/2015/06/06/china-japan-finance-ministers-concerned-about-volatile-commodity-prices\n",
      "https://www.thestar.com.my/metro/smebiz/news/2015/06/01/boost-for-chinese-smes\n",
      "https://www.thestar.com.my/metro/smebiz/news/2015/05/04/smebiz-briefs\n",
      "https://www.thestar.com.my/metro/smebiz/news/2015/05/04/plenty-of-funding-for-smes-cgc\n",
      "https://www.thestar.com.my/news/nation/2015/04/01/rm32bil-remitted-by-foreign-workers-last-year\n",
      "https://www.thestar.com.my/business/business-news/2015/01/22/bank-negara-completes-public-consultation-on-dfi\n",
      "https://www.thestar.com.my/business/business-news/2015/01/21/bnm-completes-public-consultation-on-dfi-management-criteria\n"
     ]
    },
    {
     "name": "stdout",
     "output_type": "stream",
     "text": [
      "https://www.thestar.com.my/news/nation/2015/01/21/more-funds-for-floodhit-areas-rm893mil-to-be-set-aside-under-budget-2015-for-flood-mitigation-projec\n",
      "https://www.thestar.com.my/news/nation/2015/01/20/budget-rivision-full-speech\n",
      "https://www.thestar.com.my/business/business-news/2014/10/23/husni-urges-multilateral-organisations-to-consolidate-their-expertise-resources\n",
      "https://www.thestar.com.my/business/business-news/2014/10/16/bank-negara-seeks-feedback\n",
      "https://www.thestar.com.my/business/business-news/2014/10/11/household-loan-approvals-continue-to-grow\n",
      "https://www.thestar.com.my/business/business-news/2014/10/11/us-policy-will-still-hold-sway-monetary-measures-expected-to-impact-malaysia-and-emerging-economies\n",
      "https://www.thestar.com.my/business/business-news/2014/05/13/financial-services-5-critical-targets-launch-of-a-crowdfunding-platform-tops-list\n",
      "https://www.thestar.com.my/business/business-news/2013/11/06/comfortable-household-debt-level-it-wont-affect-banks-creditworthiness-measures-sufficient-to-preven\n",
      "https://www.thestar.com.my/business/business-news/2013/10/26/banking-system-capital-market-stronger\n",
      "https://www.thestar.com.my/business/business-news/2013/10/09/govt-housing-loan-transfer-expected-to-boost-commercial-lenders-growth\n",
      "https://www.thestar.com.my/business/business-news/2013/07/22/spectre-of-rising-household-debt-economists-want-more-done-before-it-reaches-alarming-level\n",
      "https://www.thestar.com.my/business/business-news/2013/07/06/mbsb-under-spotlight\n",
      "https://www.thestar.com.my/business/business-news/2013/06/28/agrobank-aims-to-trim-npl-to-single-digit-by-yearend\n",
      "https://www.thestar.com.my/business/business-news/2013/03/09/mbsb-no-plan-for-dfi-status\n",
      "https://www.thestar.com.my/business/business-news/2013/01/26/high-growth-downstream\n",
      "https://www.thestar.com.my/business/business-news/2012/07/21/a-time-for-professional-scepticism\n",
      "https://www.thestar.com.my/business/business-news/2012/07/16/auditor-penalised-for-failure-to-meet-standards\n",
      "https://www.thestar.com.my/business/business-news/2012/07/06/financial-sector-urged-to-be-more-attentive-to-environmental-issues\n",
      "https://www.thestar.com.my/business/business-news/2012/05/02/shadow-banks-on-bank-negaras-radar-screen\n",
      "https://www.thestar.com.my/business/business-news/2012/03/31/nonbank-lenders-unperturbed-by-responsible-lending-guidelines\n",
      "https://www.thestar.com.my/business/business-news/2012/03/27/marc-limit-lending-by-nonbanks-to-contain-household-debt\n",
      "https://www.thestar.com.my/business/business-news/2012/03/20/household-debt-rise-a-concern\n",
      "https://www.thestar.com.my/news/nation/2011/11/19/bank-negara-unveils-new-financing-rules\n",
      "https://www.thestar.com.my/business/business-news/2011/05/28/aob-flexes-regulatory-muscles\n",
      "https://www.thestar.com.my/business/business-news/2011/05/16/level-of-personal-loans-not-a-worry\n",
      "https://www.thestar.com.my/business/business-news/2011/05/14/banking-consolidation-third-round\n",
      "https://www.thestar.com.my/business/business-news/2011/05/14/drbhicom-keen-on-merger-between-bank-muamalat-and-bimb\n",
      "https://www.thestar.com.my/business/business-news/2011/04/02/reliable-audit-opinions-dont-come-cheap\n",
      "https://www.thestar.com.my/business/business-news/2011/04/01/big-four-among-audit-firms-with-faults\n",
      "https://www.thestar.com.my/business/business-news/2011/03/26/managing-household-debt\n",
      "https://www.thestar.com.my/business/business-news/2011/03/24/outstanding-banking-system-financing-up-127\n",
      "https://www.thestar.com.my/business/business-news/2011/03/24/enhancing-the-contribution-of-islamic-finance\n",
      "https://www.thestar.com.my/business/business-news/2011/03/24/demand-rebound-lifts-residential-property-market\n",
      "https://www.thestar.com.my/business/business-news/2011/02/28/five-audit-firms-run-afoul-of-board\n",
      "https://www.thestar.com.my/business/business-news/2010/09/22/proposal-for-epf-members-to-invest-in-private-pension-funds\n",
      "https://www.thestar.com.my/business/business-news/2010/01/16/sme-credit-bureau-to-launch-countrys-first-credit-monitoring-services-for-smes\n",
      "https://www.thestar.com.my/business/business-news/2009/11/18/warren-buffett-goldman-sachs-in-us500mil-assistance-drive\n",
      "https://www.thestar.com.my/business/business-news/2009/11/05/plan-for-investor-dispute-mediation\n",
      "https://www.thestar.com.my/business/business-news/2009/08/26/bright-outlook-for-micro-credit-say-banks\n",
      "https://www.thestar.com.my/business/business-news/2009/08/08/deposit-insurer-aims-for-greater-awareness\n",
      "https://www.thestar.com.my/business/business-news/2009/08/08/npls-kept-in-check\n",
      "https://www.thestar.com.my/business/business-news/2009/08/08/a-robust-system-in-place\n",
      "https://www.thestar.com.my/business/business-news/2009/04/06/return-to-deposit-insurance-limit-on-the-cards\n",
      "https://www.thestar.com.my/business/business-news/2009/03/26/private-sector-benefits-from-financing-flexibility\n",
      "https://www.thestar.com.my/business/business-news/2009/03/26/precautionary-moves-put-households-on-stronger-ground\n",
      "https://www.thestar.com.my/business/business-news/2009/03/21/smes-get-loans-after-bank-negara-intervenes\n",
      "https://www.thestar.com.my/business/business-news/2009/01/07/companies-finding-it-difficult-to-get-bank-loans\n",
      "https://www.thestar.com.my/news/nation/2008/12/05/abdullah-carry-on-backing-smes\n",
      "https://www.thestar.com.my/business/business-news/2008/10/16/govt-fully-guarantees-deposits-via-pidm\n",
      "https://www.thestar.com.my/business/business-news/2008/07/28/banks-upbeat-on-microfinancing\n",
      "https://www.thestar.com.my/business/business-news/2008/07/25/better-funding-access-for-smes\n",
      "https://www.thestar.com.my/business/business-news/2008/07/21/financing-key-to-growth-of-smes\n",
      "https://www.thestar.com.my/business/business-news/2008/03/27/islamic-banking-a-vibrant-alternative-system\n",
      "https://www.thestar.com.my/business/business-news/2008/01/14/cgc-targets-smes-for-its-latest-credit-guarantee-scheme\n",
      "https://www.thestar.com.my/business/business-news/2007/10/06/rabobank-keen-on-malaysia-ops\n",
      "https://www.thestar.com.my/business/business-news/2007/09/14/smes-contribution-to-gdp-on-the-rise\n",
      "https://www.thestar.com.my/business/business-news/2007/06/07/review-and-finetune-strategies-pm-tells-smes\n",
      "https://www.thestar.com.my/news/nation/2007/03/22/loan-sharks-feel-the-bite\n",
      "https://www.thestar.com.my/business/business-news/2007/03/22/stronger-prudential-and-legal-framework-for-banks\n",
      "https://www.thestar.com.my/business/business-news/2007/02/07/credit-guarantee-projects-higher-target-this-year\n",
      "https://www.thestar.com.my/business/business-news/2007/02/06/cgc-expects-to-guarantee-more-loans-this-year\n",
      "https://www.thestar.com.my/business/business-news/2007/01/20/council-sets-aside-rm37b-for-smes\n",
      "https://www.thestar.com.my/2006/12/29/business-ups-and-downs\n",
      "https://www.thestar.com.my/business/business-news/2006/12/12/exim-bank-starts-overseas-guarantee-fund\n",
      "https://www.thestar.com.my/business/business-news/2006/12/11/exim-bank--starts-overseas-guarantee-fund\n",
      "https://www.thestar.com.my/business/business-news/2006/11/30/exim-bank-to-gain-from-merger\n",
      "https://www.thestar.com.my/business/business-news/2006/11/16/bank-ma-rules-eased\n",
      "https://www.thestar.com.my/business/business-news/2006/11/01/foreign-currency-denominated-bonds-allowed-in-malaysia\n",
      "https://www.thestar.com.my/business/business-news/2006/06/01/razif-is-deputy-governor-of-bank-negara\n",
      "https://www.thestar.com.my/business/business-news/2006/05/26/cgc-eyes-rm4b-loan-portfolio\n",
      "https://www.thestar.com.my/business/business-news/2006/03/23/good-showing-by-development-financial-institutions\n",
      "https://www.thestar.com.my/business/business-news/2005/06/02/bpimb-pretax-profit-up-19-to-rm381mil\n",
      "https://www.thestar.com.my/business/business-news/2005/03/24/development-financing-activities-stepped-up\n",
      "https://www.thestar.com.my/business/business-news/2005/03/24/financial-system-rich-in-assets\n",
      "https://www.thestar.com.my/business/business-news/2005/01/21/basic-banking-services-at-minimal-cost-from-february\n",
      "https://www.thestar.com.my/business/business-news/2004/09/13/tax-refund-procedure-made-easier\n",
      "https://www.thestar.com.my/business/business-news/2004/09/11/reshaping-bank-industri\n",
      "https://www.thestar.com.my/business/business-news/2004/07/08/meps-in-atm-tieup-with-artajasa\n",
      "https://www.thestar.com.my/business/business-news/2004/03/27/outstanding-loans-of-dfis-rise-105\n",
      "https://www.thestar.com.my/business/business-news/2004/03/02/malaysia-to-focus-on-nonbank-financial-institutions\n"
     ]
    },
    {
     "name": "stdout",
     "output_type": "stream",
     "text": [
      "https://www.thestar.com.my/business/business-news/2003/12/15/banking-on-nation-building\n",
      "https://www.thestar.com.my/business/business-news/2003/10/31/27-growth-target-for-agriculture\n",
      "https://www.thestar.com.my/business/business-news/2003/09/24/greater-efforts-needed--to-boost-islamic-financing\n",
      "https://www.thestar.com.my/business/business-news/2003/09/13/challenges-in-fiscal-consolidation-process\n",
      "https://www.thestar.com.my/business/business-news/2003/08/12/bank-industri-posts-record-pretax-profit\n",
      "https://www.thestar.com.my/business/business-news/2003/06/12/public-bank-govt-stimulus-impact-positive\n",
      "https://www.thestar.com.my/business/business-news/2003/05/28/new-3phase-5year-plan-to-transform-bsn\n",
      "https://www.thestar.com.my/news/nation/2003/05/22/government-unveils-economic-stimulus-package\n",
      "https://www.thestar.com.my/business/business-news/2003/05/21/benchmark-ops-fmm-tells-banks\n",
      "https://www.thestar.com.my/business/business-news/2003/05/20/bank-negara-sets-up-sme-special-unit\n"
     ]
    }
   ],
   "source": [
    "# # Actually request transcripts (takes a few minutes to run)\n",
    "transcripts = [url_to_transcript(u) for u in url]"
   ]
  },
  {
   "cell_type": "code",
   "execution_count": 18,
   "metadata": {},
   "outputs": [],
   "source": [
    "# # Pickle files for later use\n",
    "\n",
    "# # Make a new directory to hold the text files\n",
    "# !mkdir transcripts\n",
    "\n",
    "# for i, c in enumerate(comedians):\n",
    "#     with open(\"transcripts/\" + c + \".txt\", \"wb\") as file:\n",
    "#         pickle.dump(transcripts[i], file)"
   ]
  },
  {
   "cell_type": "code",
   "execution_count": null,
   "metadata": {
    "collapsed": true
   },
   "outputs": [],
   "source": [
    "# Load pickled files\n",
    "data = {}\n",
    "for i, c in enumerate(comedians):\n",
    "    with open(\"transcripts/\" + c + \".txt\", \"rb\") as file:\n",
    "        data[c] = pickle.load(file)"
   ]
  },
  {
   "cell_type": "code",
   "execution_count": null,
   "metadata": {},
   "outputs": [],
   "source": [
    "# Double check to make sure data has been loaded properly\n",
    "data.keys()"
   ]
  },
  {
   "cell_type": "code",
   "execution_count": null,
   "metadata": {},
   "outputs": [],
   "source": [
    "# More checks\n",
    "data['louis'][:2]"
   ]
  },
  {
   "cell_type": "markdown",
   "metadata": {},
   "source": [
    "## Cleaning The Data"
   ]
  },
  {
   "cell_type": "markdown",
   "metadata": {},
   "source": [
    "When dealing with numerical data, data cleaning often involves removing null values and duplicate data, dealing with outliers, etc. With text data, there are some common data cleaning techniques, which are also known as text pre-processing techniques.\n",
    "\n",
    "With text data, this cleaning process can go on forever. There's always an exception to every cleaning step. So, we're going to follow the MVP (minimum viable product) approach - start simple and iterate. Here are a bunch of things you can do to clean your data. We're going to execute just the common cleaning steps here and the rest can be done at a later point to improve our results.\n",
    "\n",
    "**Common data cleaning steps on all text:**\n",
    "* Make text all lower case\n",
    "* Remove punctuation\n",
    "* Remove numerical values\n",
    "* Remove common non-sensical text (/n)\n",
    "* Tokenize text\n",
    "* Remove stop words\n",
    "\n",
    "**More data cleaning steps after tokenization:**\n",
    "* Stemming / lemmatization\n",
    "* Parts of speech tagging\n",
    "* Create bi-grams or tri-grams\n",
    "* Deal with typos\n",
    "* And more..."
   ]
  },
  {
   "cell_type": "code",
   "execution_count": null,
   "metadata": {},
   "outputs": [],
   "source": [
    "# Let's take a look at our data again\n",
    "next(iter(data.keys()))"
   ]
  },
  {
   "cell_type": "code",
   "execution_count": null,
   "metadata": {},
   "outputs": [],
   "source": [
    "# Notice that our dictionary is currently in key: comedian, value: list of text format\n",
    "next(iter(data.values()))"
   ]
  },
  {
   "cell_type": "code",
   "execution_count": null,
   "metadata": {
    "collapsed": true
   },
   "outputs": [],
   "source": [
    "# We are going to change this to key: comedian, value: string format\n",
    "def combine_text(list_of_text):\n",
    "    '''Takes a list of text and combines them into one large chunk of text.'''\n",
    "    combined_text = ' '.join(list_of_text)\n",
    "    return combined_text"
   ]
  },
  {
   "cell_type": "code",
   "execution_count": null,
   "metadata": {
    "collapsed": true
   },
   "outputs": [],
   "source": [
    "# Combine it!\n",
    "data_combined = {key: [combine_text(value)] for (key, value) in data.items()}"
   ]
  },
  {
   "cell_type": "code",
   "execution_count": null,
   "metadata": {},
   "outputs": [],
   "source": [
    "# We can either keep it in dictionary format or put it into a pandas dataframe\n",
    "import pandas as pd\n",
    "pd.set_option('max_colwidth',150)\n",
    "\n",
    "data_df = pd.DataFrame.from_dict(data_combined).transpose()\n",
    "data_df.columns = ['transcript']\n",
    "data_df = data_df.sort_index()\n",
    "data_df"
   ]
  },
  {
   "cell_type": "code",
   "execution_count": null,
   "metadata": {},
   "outputs": [],
   "source": [
    "# Let's take a look at the transcript for Ali Wong\n",
    "data_df.transcript.loc['ali']"
   ]
  },
  {
   "cell_type": "code",
   "execution_count": null,
   "metadata": {
    "collapsed": true
   },
   "outputs": [],
   "source": [
    "# Apply a first round of text cleaning techniques\n",
    "import re\n",
    "import string\n",
    "\n",
    "def clean_text_round1(text):\n",
    "    '''Make text lowercase, remove text in square brackets, remove punctuation and remove words containing numbers.'''\n",
    "    text = text.lower()\n",
    "    text = re.sub('\\[.*?\\]', '', text)\n",
    "    text = re.sub('[%s]' % re.escape(string.punctuation), '', text)\n",
    "    text = re.sub('\\w*\\d\\w*', '', text)\n",
    "    return text\n",
    "\n",
    "round1 = lambda x: clean_text_round1(x)"
   ]
  },
  {
   "cell_type": "code",
   "execution_count": null,
   "metadata": {},
   "outputs": [],
   "source": [
    "# Let's take a look at the updated text\n",
    "data_clean = pd.DataFrame(data_df.transcript.apply(round1))\n",
    "data_clean"
   ]
  },
  {
   "cell_type": "code",
   "execution_count": null,
   "metadata": {
    "collapsed": true
   },
   "outputs": [],
   "source": [
    "# Apply a second round of cleaning\n",
    "def clean_text_round2(text):\n",
    "    '''Get rid of some additional punctuation and non-sensical text that was missed the first time around.'''\n",
    "    text = re.sub('[‘’“”…]', '', text)\n",
    "    text = re.sub('\\n', '', text)\n",
    "    return text\n",
    "\n",
    "round2 = lambda x: clean_text_round2(x)"
   ]
  },
  {
   "cell_type": "code",
   "execution_count": null,
   "metadata": {},
   "outputs": [],
   "source": [
    "# Let's take a look at the updated text\n",
    "data_clean = pd.DataFrame(data_clean.transcript.apply(round2))\n",
    "data_clean"
   ]
  },
  {
   "cell_type": "markdown",
   "metadata": {},
   "source": [
    "**NOTE:** This data cleaning aka text pre-processing step could go on for a while, but we are going to stop for now. After going through some analysis techniques, if you see that the results don't make sense or could be improved, you can come back and make more edits such as:\n",
    "* Mark 'cheering' and 'cheer' as the same word (stemming / lemmatization)\n",
    "* Combine 'thank you' into one term (bi-grams)\n",
    "* And a lot more..."
   ]
  },
  {
   "cell_type": "markdown",
   "metadata": {},
   "source": [
    "## Organizing The Data"
   ]
  },
  {
   "cell_type": "markdown",
   "metadata": {},
   "source": [
    "I mentioned earlier that the output of this notebook will be clean, organized data in two standard text formats:\n",
    "1. **Corpus - **a collection of text\n",
    "2. **Document-Term Matrix - **word counts in matrix format"
   ]
  },
  {
   "cell_type": "markdown",
   "metadata": {},
   "source": [
    "### Corpus"
   ]
  },
  {
   "cell_type": "markdown",
   "metadata": {},
   "source": [
    "We already created a corpus in an earlier step. The definition of a corpus is a collection of texts, and they are all put together neatly in a pandas dataframe here."
   ]
  },
  {
   "cell_type": "code",
   "execution_count": null,
   "metadata": {},
   "outputs": [],
   "source": [
    "# Let's take a look at our dataframe\n",
    "data_df"
   ]
  },
  {
   "cell_type": "code",
   "execution_count": null,
   "metadata": {},
   "outputs": [],
   "source": [
    "# Let's add the comedians' full names as well\n",
    "full_names = ['Ali Wong', 'Anthony Jeselnik', 'Bill Burr', 'Bo Burnham', 'Dave Chappelle', 'Hasan Minhaj',\n",
    "              'Jim Jefferies', 'Joe Rogan', 'John Mulaney', 'Louis C.K.', 'Mike Birbiglia', 'Ricky Gervais']\n",
    "\n",
    "data_df['full_name'] = full_names\n",
    "data_df"
   ]
  },
  {
   "cell_type": "code",
   "execution_count": null,
   "metadata": {
    "collapsed": true
   },
   "outputs": [],
   "source": [
    "# Let's pickle it for later use\n",
    "data_df.to_pickle(\"corpus.pkl\")"
   ]
  },
  {
   "cell_type": "markdown",
   "metadata": {},
   "source": [
    "### Document-Term Matrix"
   ]
  },
  {
   "cell_type": "markdown",
   "metadata": {},
   "source": [
    "For many of the techniques we'll be using in future notebooks, the text must be tokenized, meaning broken down into smaller pieces. The most common tokenization technique is to break down text into words. We can do this using scikit-learn's CountVectorizer, where every row will represent a different document and every column will represent a different word.\n",
    "\n",
    "In addition, with CountVectorizer, we can remove stop words. Stop words are common words that add no additional meaning to text such as 'a', 'the', etc."
   ]
  },
  {
   "cell_type": "code",
   "execution_count": null,
   "metadata": {},
   "outputs": [],
   "source": [
    "# We are going to create a document-term matrix using CountVectorizer, and exclude common English stop words\n",
    "from sklearn.feature_extraction.text import CountVectorizer\n",
    "\n",
    "cv = CountVectorizer(stop_words='english')\n",
    "data_cv = cv.fit_transform(data_clean.transcript)\n",
    "data_dtm = pd.DataFrame(data_cv.toarray(), columns=cv.get_feature_names())\n",
    "data_dtm.index = data_clean.index\n",
    "data_dtm"
   ]
  },
  {
   "cell_type": "code",
   "execution_count": null,
   "metadata": {
    "collapsed": true
   },
   "outputs": [],
   "source": [
    "# Let's pickle it for later use\n",
    "data_dtm.to_pickle(\"dtm.pkl\")"
   ]
  },
  {
   "cell_type": "code",
   "execution_count": null,
   "metadata": {
    "collapsed": true
   },
   "outputs": [],
   "source": [
    "# Let's also pickle the cleaned data (before we put it in document-term matrix format) and the CountVectorizer object\n",
    "data_clean.to_pickle('data_clean.pkl')\n",
    "pickle.dump(cv, open(\"cv.pkl\", \"wb\"))"
   ]
  },
  {
   "cell_type": "markdown",
   "metadata": {
    "collapsed": true
   },
   "source": [
    "## Additional Exercises"
   ]
  },
  {
   "cell_type": "markdown",
   "metadata": {},
   "source": [
    "1. Can you add an additional regular expression to the clean_text_round2 function to further clean the text?\n",
    "2. Play around with CountVectorizer's parameters. What is ngram_range? What is min_df and max_df?"
   ]
  },
  {
   "cell_type": "code",
   "execution_count": null,
   "metadata": {
    "collapsed": true
   },
   "outputs": [],
   "source": []
  }
 ],
 "metadata": {
  "kernelspec": {
   "display_name": "Python 3",
   "language": "python",
   "name": "python3"
  },
  "language_info": {
   "codemirror_mode": {
    "name": "ipython",
    "version": 3
   },
   "file_extension": ".py",
   "mimetype": "text/x-python",
   "name": "python",
   "nbconvert_exporter": "python",
   "pygments_lexer": "ipython3",
   "version": "3.7.6"
  },
  "toc": {
   "nav_menu": {},
   "number_sections": true,
   "sideBar": true,
   "skip_h1_title": false,
   "toc_cell": false,
   "toc_position": {},
   "toc_section_display": "block",
   "toc_window_display": false
  },
  "varInspector": {
   "cols": {
    "lenName": 16,
    "lenType": 16,
    "lenVar": 40
   },
   "kernels_config": {
    "python": {
     "delete_cmd_postfix": "",
     "delete_cmd_prefix": "del ",
     "library": "var_list.py",
     "varRefreshCmd": "print(var_dic_list())"
    },
    "r": {
     "delete_cmd_postfix": ") ",
     "delete_cmd_prefix": "rm(",
     "library": "var_list.r",
     "varRefreshCmd": "cat(var_dic_list()) "
    }
   },
   "types_to_exclude": [
    "module",
    "function",
    "builtin_function_or_method",
    "instance",
    "_Feature"
   ],
   "window_display": false
  }
 },
 "nbformat": 4,
 "nbformat_minor": 2
}
